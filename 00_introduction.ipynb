{
 "cells": [
  {
   "cell_type": "markdown",
   "metadata": {},
   "source": [
    "# Battery Days 2025\n",
    "\n",
    "This repository contains course material for the battery testing data processing tutorial.\n",
    "\n",
    "**Authors**: Jan Petter Mæhlen, Julia Wind, Carl Erik L. Foss  \n",
    "**Location**: IFE, Norway  \n",
    "**Date**: 2025.05.13  \n",
    "\n",
    "## Before you begin\n",
    "\n",
    "## Agenda for today\n",
    "\n",
    "## JupyterHub\n",
    "\n",
    "## Lessons\n",
    "\n",
    "### Lesson 0.1: Battery testing data - whaaat?\n",
    "\n",
    "### Lesson 0.2: Python and stuff\n",
    "\n",
    "### Lesson 0.3: `cellpy`\n",
    "\n",
    "### Lesson 1: Loading and looking\n",
    "\n",
    "### Lesson 2: Comparing\n",
    "\n",
    "### Lesson 3: Reporting\n",
    "\n",
    "### Lesson 4: GITT, ICA, and all that jazz\n",
    "\n",
    "## Contact information\n",
    "\n",
    "### FME BATTERY\n",
    "\n",
    "- Hanne F. Andersen (FME Battery center leader): <hanne.flaten.andersen@ife.no>\n",
    "- Marte Skare (FME Battery center coordinator): <marte.skare@ife.no>\n",
    "\n",
    "### IPN SPEED and `cellpy`\n",
    "\n",
    "- Ronny Ager-Wick (Project leader IPN SPEED): <Ronny.Ager-Wick@morrowbatteries.com>\n",
    "- Rasmus Vester Thøgersen (IPN SPEED, Core developer `cellpy`): <Rasmus.Thogersen@morrowbatteries.com>\n",
    "- Jan Petter Mæhlen (IPN SPEED, Core developer `cellpy`): <jepe@ife.no>\n",
    "- Julia Wind (IPN SPEED, Core developer `cellpy`): <julia.wind@ife.no>\n",
    "- Carl Erik L. Foss (Outreach, IPN SPEED): <carl.foss@ife.no>\n",
    "\n",
    "## Acknowledgement\n",
    "\n",
    "This work was supported by FME BATTERY (xxx), IPN SPEED (xxx), and IFE."
   ]
  },
  {
   "cell_type": "markdown",
   "metadata": {},
   "source": [
    "## Checking"
   ]
  },
  {
   "cell_type": "code",
   "execution_count": 1,
   "metadata": {},
   "outputs": [],
   "source": [
    "import pathlib\n",
    "\n",
    "import numpy as np\n",
    "import pandas as pd\n",
    "from rich import print\n",
    "\n",
    "import cellpy"
   ]
  },
  {
   "cell_type": "code",
   "execution_count": null,
   "metadata": {},
   "outputs": [],
   "source": [
    "filedir = pathlib.Path(\"data\")  # foldername within the same directory\n",
    "assert filedir.is_dir()\n",
    "# single filename\n",
    "filename = \"20210210_FC_01_cc_01.res\"\n",
    "# list of files (continuations within same experiment)\n",
    "filenamelist = [\n",
    "    \"20210210_FC_01_cc_01.res\",\n",
    "    \"20210210_FC_01_cc_02.res\",\n",
    "    \"20210210_FC_01_cc_03.res\",\n",
    "    \"20210210_FC_01_cc_04.res\",\n",
    "]\n",
    "\n",
    "filepaths = [filedir / file for file in filenamelist]\n",
    "for filepath in filepaths:\n",
    "    print(f\"filepath: {filepath} - {filepath.exists()}\")"
   ]
  },
  {
   "cell_type": "code",
   "execution_count": null,
   "metadata": {},
   "outputs": [],
   "source": []
  }
 ],
 "metadata": {
  "kernelspec": {
   "display_name": ".venv",
   "language": "python",
   "name": "python3"
  },
  "language_info": {
   "codemirror_mode": {
    "name": "ipython",
    "version": 3
   },
   "file_extension": ".py",
   "mimetype": "text/x-python",
   "name": "python",
   "nbconvert_exporter": "python",
   "pygments_lexer": "ipython3",
   "version": "3.12.8"
  },
  "widgets": {
   "application/vnd.jupyter.widget-state+json": {
    "state": {},
    "version_major": 2,
    "version_minor": 0
   }
  }
 },
 "nbformat": 4,
 "nbformat_minor": 4
}
