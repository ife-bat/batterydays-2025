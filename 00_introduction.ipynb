{
 "cells": [
  {
   "cell_type": "markdown",
   "metadata": {},
   "source": [
    "# Battery Days 2025\n",
    "\n",
    "This repository contains course material for the battery testing data processing tutorial.\n",
    "\n",
    "**Authors**: Jan Petter Mæhlen, Julia Wind, Carl Erik L. Foss  \n",
    "**Location**: IFE, Norway  \n",
    "**Date**: 2025.05.13  \n",
    "\n",
    "## Agenda for today\n",
    "\n",
    "Add agenda (with approximate timing) here. Also include breaks.\n",
    "\n",
    "## Lessons\n",
    "\n",
    "### Lesson 0.1: Battery testing data - whaaat?\n",
    "\n",
    "Introduction to battery testing data (powerpoint presentation).\n",
    "\n",
    "### Lesson 0.2: Python and stuff\n",
    "\n",
    "This tutorial relies on you being able to run some simple python routines. You dont have to be a very good programmer to follow this tutorial, and do not be afraid\n",
    "to ask for help from the instructors or your fellow students. We will use `jupyter`notebooks and run the code on a dedicated `jupyterhub`. The intention is that all\n",
    "the needed python libraries are already installed so you dont have to strugle with that. However, there are sometimes discrepancies between intentions and the real life...\n",
    "\n",
    "### Lesson 0.3: `cellpy`\n",
    "\n",
    "We will be using the `cellpy` library for doing most of the data handling stuff. If you want to know more about the library, here are some helpful tips:\n",
    "\n",
    "- documentation: <https://cellpy.readthedocs.io/en/latest/>\n",
    "- code: <https://github.com/jepegit/cellpy>\n",
    "\n",
    "### Lesson 1: Loading and looking\n",
    "\n",
    "- link to first notebook on this topic\n",
    "- link to second notebook on this topic\n",
    "- etc\n",
    "\n",
    "### Lesson 2: Comparing\n",
    "\n",
    "- link to first notebook on this topic\n",
    "- link to second notebook on this topic\n",
    "- etc\n",
    "\n",
    "### Lesson 3: Reporting\n",
    "\n",
    "- link to first notebook on this topic\n",
    "- link to second notebook on this topic\n",
    "- etc\n",
    "\n",
    "### Lesson 4: GITT, ICA, and all that jazz\n",
    "\n",
    "- link to first notebook on this topic\n",
    "- link to second notebook on this topic\n",
    "- etc\n",
    "\n",
    "## Contact information\n",
    "\n",
    "### FME BATTERY\n",
    "\n",
    "- Hanne F. Andersen (FME Battery director): <hanne.flaten.andersen@ife.no>\n",
    "- Odne S. Burheim (FME Battery Deputy director): <burheim@ntnu.no>\n",
    "- Marte Skare (FME Battery center coordinator): <marte.skare@ife.no>\n",
    "\n",
    "### IPN SPEED and `cellpy`\n",
    "\n",
    "- Ronny Ager-Wick (Project leader IPN SPEED): <Ronny.Ager-Wick@morrowbatteries.com>\n",
    "- Rasmus Vester Thøgersen (IPN SPEED, Core developer `cellpy`): <Rasmus.Thogersen@morrowbatteries.com>\n",
    "- Jan Petter Mæhlen (IPN SPEED, Core developer `cellpy`): <jepe@ife.no>\n",
    "- Julia Wind (IPN SPEED, Core developer `cellpy`): <julia.wind@ife.no>\n",
    "- Carl Erik L. Foss (Outreach, IPN SPEED): <carl.foss@ife.no>\n",
    "\n",
    "## Acknowledgement\n",
    "\n",
    "This work was supported by FME BATTERY (RCN), IPN SPEED (RCN project no. 355923), and IFE.\n"
   ]
  },
  {
   "cell_type": "markdown",
   "metadata": {},
   "source": [
    "## Lesson 0.1\n",
    "\n",
    "Look at the screen..."
   ]
  },
  {
   "cell_type": "markdown",
   "metadata": {},
   "source": [
    "### Lesson 0.2 and 0.3\n",
    "\n",
    "Run the cells below...\n",
    "\n",
    "Hint! try pressing Ctrl+Enter or Shift+Enter when the cursor is inside the cell"
   ]
  },
  {
   "cell_type": "code",
   "execution_count": null,
   "metadata": {},
   "outputs": [],
   "source": [
    "import pathlib\n",
    "import sys\n",
    "\n",
    "import matplotlib.pyplot as plt\n",
    "import numpy as np\n",
    "import pandas as pd\n",
    "\n",
    "print(\"Excellent - python works!!\")\n",
    "print(f\"pandas version: {pd.__version__}\")\n",
    "print(f\"numpy version: {np.__version__}\")\n",
    "print(f\"python version: {sys.version}\")"
   ]
  },
  {
   "cell_type": "code",
   "execution_count": null,
   "metadata": {},
   "outputs": [],
   "source": [
    "import cellpy\n",
    "\n",
    "print(\"Amazing - cellpy also seems to work\")\n",
    "print(f\"cellpy version: {cellpy.__version__}\")"
   ]
  },
  {
   "cell_type": "code",
   "execution_count": null,
   "metadata": {},
   "outputs": [],
   "source": [
    "filedir = pathlib.Path(\"data\")  # foldername within the same directory\n",
    "assert filedir.is_dir()\n",
    "print(\"You have access to the data folder :-)\")\n",
    "# single filename\n",
    "filename = \"20210210_FC_01_cc_01.res\"\n",
    "# list of files (continuations within same experiment)\n",
    "filenamelist = [\n",
    "    \"20210210_FC_01_cc_01.res\",\n",
    "    \"20210210_FC_01_cc_02.res\",\n",
    "    \"20210210_FC_01_cc_03.res\",\n",
    "    \"20210210_FC_01_cc_04.res\",\n",
    "]\n",
    "\n",
    "filepaths = [filedir / file for file in filenamelist]\n",
    "for filepath in filepaths:\n",
    "    print(f\"  filepath: {filepath} - {filepath.exists()}\")\n",
    "print(\"And there is some date there :-)\")"
   ]
  },
  {
   "cell_type": "code",
   "execution_count": null,
   "metadata": {},
   "outputs": [],
   "source": [
    "x = np.linspace(-2 * np.pi, 2 * np.pi, 1000)\n",
    "y = np.sin(x) * x**2\n",
    "\n",
    "fig, ax = plt.subplots()\n",
    "ax.plot(x, y, \"-.\", label=\"my nice function\")\n",
    "ax.set_xlabel(\"x-value\")\n",
    "ax.set_xlim(-6.0, 6.0)\n",
    "ax.set_ylabel(\"y-value\")\n",
    "ax.legend(frameon=False)\n",
    "print(\"What a nice plot:\")"
   ]
  },
  {
   "cell_type": "markdown",
   "metadata": {},
   "source": [
    "## Assigments\n",
    "\n",
    "### A.0.1\n",
    "\n",
    "- Recreate the plot above with a red solid line instead of the \"-.\"\n",
    "- Change the axis labels to something cool\n",
    "- Change the size of the figure"
   ]
  },
  {
   "cell_type": "code",
   "execution_count": 19,
   "metadata": {},
   "outputs": [],
   "source": [
    "# Insert your code into this cell"
   ]
  },
  {
   "cell_type": "markdown",
   "metadata": {},
   "source": []
  }
 ],
 "metadata": {
  "kernelspec": {
   "display_name": ".venv",
   "language": "python",
   "name": "python3"
  },
  "language_info": {
   "codemirror_mode": {
    "name": "ipython",
    "version": 3
   },
   "file_extension": ".py",
   "mimetype": "text/x-python",
   "name": "python",
   "nbconvert_exporter": "python",
   "pygments_lexer": "ipython3",
   "version": "3.12.8"
  },
  "widgets": {
   "application/vnd.jupyter.widget-state+json": {
    "state": {},
    "version_major": 2,
    "version_minor": 0
   }
  }
 },
 "nbformat": 4,
 "nbformat_minor": 4
}
