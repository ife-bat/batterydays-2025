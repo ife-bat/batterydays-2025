{
 "cells": [
  {
   "cell_type": "markdown",
   "metadata": {},
   "source": [
    "# Loading, saving and exporting data\n"
   ]
  },
  {
   "cell_type": "code",
   "execution_count": 1,
   "metadata": {},
   "outputs": [],
   "source": [
    "import pathlib\n",
    "\n",
    "import cellpy\n",
    "\n",
    "# this is just to get rid of some warnings\n",
    "import warnings\n",
    "from pandas.errors import SettingWithCopyWarning\n",
    "\n",
    "warnings.simplefilter(action=\"ignore\", category=(SettingWithCopyWarning))"
   ]
  },
  {
   "cell_type": "markdown",
   "metadata": {},
   "source": [
    "Set the paths and filename(s).\n",
    "You can either load a single file `filename`, or add a list of filenames `filenamelist` (if several files belong to the same experiment):\n"
   ]
  },
  {
   "cell_type": "code",
   "execution_count": 2,
   "metadata": {},
   "outputs": [],
   "source": [
    "filedir = pathlib.Path(\"data\") / \"raw\"  # foldername within the same directory\n",
    "\n",
    "# single filename\n",
    "filename = \"20210210_FC_01_cc_01.res\"\n",
    "# list of files (continuations within same experiment)\n",
    "filenamelist = [\n",
    "    \"20210210_FC_01_cc_01.res\",\n",
    "    \"20210210_FC_01_cc_02.res\",\n",
    "    \"20210210_FC_01_cc_03.res\",\n",
    "    \"20210210_FC_01_cc_04.res\",\n",
    "]\n",
    "\n",
    "filepaths = [filedir / file for file in filenamelist]"
   ]
  },
  {
   "cell_type": "markdown",
   "metadata": {},
   "source": [
    "## Loading data\n"
   ]
  },
  {
   "cell_type": "markdown",
   "metadata": {},
   "source": [
    "Use `cellpy.get()` to load the rawdatafile(s):\n"
   ]
  },
  {
   "cell_type": "code",
   "execution_count": 3,
   "metadata": {},
   "outputs": [],
   "source": [
    "c = cellpy.get(filepaths, mass=1.2, cycle_mode=\"full-cell\", instrument=\"arbin_res\")"
   ]
  },
  {
   "cell_type": "markdown",
   "metadata": {},
   "source": [
    "**Note:** Without any further specifications, `cellpy.get()` will use the standard instrument loader as defined in your config file."
   ]
  },
  {
   "cell_type": "markdown",
   "metadata": {},
   "source": [
    "Now you have created your **CellpyCell** object and can start to explore it further. The `cellpy.get()` function conveniently created a so-called _step-table_ and a _summary_ for you (both are pandas dataframes):\n"
   ]
  },
  {
   "cell_type": "markdown",
   "metadata": {},
   "source": [
    "### Data inspection\n"
   ]
  },
  {
   "cell_type": "code",
   "execution_count": null,
   "metadata": {},
   "outputs": [],
   "source": [
    "c.data.summary.head(5)"
   ]
  },
  {
   "cell_type": "code",
   "execution_count": null,
   "metadata": {},
   "outputs": [],
   "source": [
    "c.data.steps.head(5)"
   ]
  },
  {
   "cell_type": "markdown",
   "metadata": {},
   "source": [
    "It also contains the raw data:\n"
   ]
  },
  {
   "cell_type": "code",
   "execution_count": null,
   "metadata": {},
   "outputs": [],
   "source": [
    "c.data.raw.head(5)"
   ]
  },
  {
   "cell_type": "markdown",
   "metadata": {},
   "source": [
    "### Metadata\n"
   ]
  },
  {
   "cell_type": "markdown",
   "metadata": {},
   "source": [
    "Cellpy fills in some standard values for meta-data for you (based on your config-file), these can be updated and adjusted.\n",
    "\n",
    "E.g., we can set a new cell name and add a value active electrode area:\n"
   ]
  },
  {
   "cell_type": "code",
   "execution_count": 7,
   "metadata": {},
   "outputs": [],
   "source": [
    "c.active_electrode_area = 1.767\n",
    "c.cell_name = \"20210210_FC\""
   ]
  },
  {
   "cell_type": "markdown",
   "metadata": {},
   "source": [
    "**Note!**\n",
    "\n",
    "If you change variables that are used in calculating summary values (such as for example `cycle_mode`, `mass`, `active_electrode_area`), you need to re-make the summary for it to be updated:\n",
    "\n",
    "```python\n",
    "c.make_summary()\n",
    "```\n"
   ]
  },
  {
   "cell_type": "markdown",
   "metadata": {},
   "source": [
    "To check the units that are used within cellpy:\n"
   ]
  },
  {
   "cell_type": "code",
   "execution_count": null,
   "metadata": {},
   "outputs": [],
   "source": [
    "print(c.cellpy_units)"
   ]
  },
  {
   "cell_type": "markdown",
   "metadata": {},
   "source": [
    "Metadata can also be included by the use of a database file containing the required values. The information on database filename and content has to be set in the config file.\n"
   ]
  },
  {
   "cell_type": "markdown",
   "metadata": {},
   "source": [
    "## Saving & exporting data\n"
   ]
  },
  {
   "cell_type": "markdown",
   "metadata": {},
   "source": [
    "You can easily save all of this in the cellpy .HDF5 format:\n"
   ]
  },
  {
   "cell_type": "code",
   "execution_count": 9,
   "metadata": {},
   "outputs": [],
   "source": [
    "outdir = pathlib.Path(\"out\")\n",
    "c.save(outdir / \"20210210_FC\")"
   ]
  },
  {
   "cell_type": "markdown",
   "metadata": {},
   "source": [
    "or export to csv or excel\n"
   ]
  },
  {
   "cell_type": "code",
   "execution_count": 10,
   "metadata": {},
   "outputs": [],
   "source": [
    "c.to_csv(outdir, sep=\";\", raw=True)"
   ]
  },
  {
   "cell_type": "code",
   "execution_count": 11,
   "metadata": {},
   "outputs": [],
   "source": [
    "c.to_excel(outdir / \"20210210_FC.xlsx\")"
   ]
  },
  {
   "cell_type": "markdown",
   "metadata": {},
   "source": [
    "## Loading saved files\n"
   ]
  },
  {
   "cell_type": "markdown",
   "metadata": {},
   "source": [
    "To load saved files, you can use the `cellpy.get()` function again:\n"
   ]
  },
  {
   "cell_type": "code",
   "execution_count": 12,
   "metadata": {},
   "outputs": [],
   "source": [
    "c = cellpy.get(filedir / \"20210210_FC.h5\")"
   ]
  },
  {
   "cell_type": "code",
   "execution_count": null,
   "metadata": {},
   "outputs": [],
   "source": [
    "c.data.summary.head()"
   ]
  },
  {
   "cell_type": "markdown",
   "metadata": {},
   "source": [
    "## Assignements\n"
   ]
  },
  {
   "cell_type": "markdown",
   "metadata": {},
   "source": [
    "### A1.1\n",
    "\n",
    "Load the file called \"20231115_rate_cc.h5\" and export it as a .xlxs file into the \"out\" folder.\n",
    "Also export it as a csv-file using \";\" as a delimiter without including the raw-data.\n"
   ]
  },
  {
   "cell_type": "code",
   "execution_count": 14,
   "metadata": {},
   "outputs": [],
   "source": []
  },
  {
   "cell_type": "markdown",
   "metadata": {},
   "source": [
    "### A1.2\n",
    "\n",
    "What is the value of the mass set to in this cell?\n",
    "\n",
    "What type of active material do you think was used in this half cell?\n"
   ]
  },
  {
   "cell_type": "code",
   "execution_count": null,
   "metadata": {},
   "outputs": [],
   "source": []
  }
 ],
 "metadata": {
  "kernelspec": {
   "display_name": ".venv",
   "language": "python",
   "name": "python3"
  },
  "language_info": {
   "codemirror_mode": {
    "name": "ipython",
    "version": 3
   },
   "file_extension": ".py",
   "mimetype": "text/x-python",
   "name": "python",
   "nbconvert_exporter": "python",
   "pygments_lexer": "ipython3",
   "version": "3.12.8"
  },
  "widgets": {
   "application/vnd.jupyter.widget-state+json": {
    "state": {},
    "version_major": 2,
    "version_minor": 0
   }
  }
 },
 "nbformat": 4,
 "nbformat_minor": 4
}
